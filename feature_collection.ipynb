{
  "nbformat": 4,
  "nbformat_minor": 0,
  "metadata": {
    "colab": {
      "name": "feature_collection.ipynb",
      "provenance": [],
      "collapsed_sections": [],
      "machine_shape": "hm",
      "authorship_tag": "ABX9TyO7XsvnVLVjvrXIkqnX1gcC",
      "include_colab_link": true
    },
    "kernelspec": {
      "name": "python3",
      "display_name": "Python 3"
    },
    "language_info": {
      "name": "python"
    },
    "accelerator": "TPU"
  },
  "cells": [
    {
      "cell_type": "markdown",
      "metadata": {
        "id": "view-in-github",
        "colab_type": "text"
      },
      "source": [
        "<a href=\"https://colab.research.google.com/github/jasperSha/cloud_music/blob/main/feature_collection.ipynb\" target=\"_parent\"><img src=\"https://colab.research.google.com/assets/colab-badge.svg\" alt=\"Open In Colab\"/></a>"
      ]
    },
    {
      "cell_type": "code",
      "metadata": {
        "id": "6cq0dRNegEmo"
      },
      "source": [
        "from google.colab import auth\n",
        "auth.authenticate_user()"
      ],
      "execution_count": 1,
      "outputs": []
    },
    {
      "cell_type": "code",
      "metadata": {
        "id": "_joSYv8fgaFW"
      },
      "source": [
        "!curl https://sdk.cloud.google.com | bash"
      ],
      "execution_count": null,
      "outputs": []
    },
    {
      "cell_type": "code",
      "metadata": {
        "id": "GGO7ZKrhgnZZ",
        "colab": {
          "base_uri": "https://localhost:8080/"
        },
        "outputId": "a17cd830-1d29-4fef-be31-e2b7453655e3"
      },
      "source": [
        "!gcloud projects list"
      ],
      "execution_count": 2,
      "outputs": [
        {
          "output_type": "stream",
          "name": "stdout",
          "text": [
            "PROJECT_ID             NAME                         PROJECT_NUMBER\n",
            "cloudmusic-330004      cloudmusic                   731970834007\n",
            "cluster-music          cluster-music                850659529381\n",
            "composed-field-268617  ReverseAddressLookUp         1042903851702\n",
            "solar-theory-326420    natural-language-processing  128859147416\n",
            "studenthelper-520f1    studenthelper                280871841346\n"
          ]
        }
      ]
    },
    {
      "cell_type": "code",
      "metadata": {
        "id": "z2R0p3j5g8fj",
        "colab": {
          "base_uri": "https://localhost:8080/"
        },
        "outputId": "80b159ab-2fe8-4726-c235-d3ffbeb07c9c"
      },
      "source": [
        "!gcloud config set project cluster-music"
      ],
      "execution_count": 2,
      "outputs": [
        {
          "output_type": "stream",
          "name": "stdout",
          "text": [
            "Updated property [core/project].\n"
          ]
        }
      ]
    },
    {
      "cell_type": "code",
      "metadata": {
        "id": "-8kIOQ1vYpdZ",
        "colab": {
          "base_uri": "https://localhost:8080/"
        },
        "outputId": "a6d34f81-41f9-47d4-c673-7adb0e9bd0f8"
      },
      "source": [
        "!pip install soundfile"
      ],
      "execution_count": 1,
      "outputs": [
        {
          "output_type": "stream",
          "name": "stdout",
          "text": [
            "Requirement already satisfied: soundfile in /usr/local/lib/python3.7/dist-packages (0.10.3.post1)\n",
            "Requirement already satisfied: cffi>=1.0 in /usr/local/lib/python3.7/dist-packages (from soundfile) (1.14.6)\n",
            "Requirement already satisfied: pycparser in /usr/local/lib/python3.7/dist-packages (from cffi>=1.0->soundfile) (2.20)\n"
          ]
        }
      ]
    },
    {
      "cell_type": "code",
      "metadata": {
        "id": "8yqnUUzUjJHS"
      },
      "source": [
        "import os\n",
        "# create virtual directory for image data\n",
        "os.makedirs('song_images', exist_ok=True)\n",
        "\n",
        "# create virtual directory for frequency data\n",
        "os.makedirs('song_freqs', exist_ok=True)\n",
        "\n",
        "# create virtual directory for the flac files\n",
        "os.makedirs('song_flacs', exist_ok=True)"
      ],
      "execution_count": 4,
      "outputs": []
    },
    {
      "cell_type": "code",
      "metadata": {
        "id": "8vAB5y1jh9Nu"
      },
      "source": [
        "# load audio every N batches\n",
        "# have to manually enter into head and tail cmd (only have to change tail input to starting index each time, head just adds to it)\n",
        "start = 0\n",
        "!gsutil ls gs://deepclustermusic/flac_files/spotify_yt_data/*.flac | tail -n +0 | head -n 100 | gsutil -m cp -n -I './song_flacs'\n",
        "\n",
        "# load frequency data\n",
        "# !gsutil cp gs://deepclustermusic/*.csv './song_freqs'"
      ],
      "execution_count": null,
      "outputs": []
    },
    {
      "cell_type": "code",
      "metadata": {
        "colab": {
          "base_uri": "https://localhost:8080/"
        },
        "id": "YVOJ2scD3Ig_",
        "outputId": "f858fbf8-9c7e-4ec1-a2c3-1a0061a3f5f5"
      },
      "source": [
        "!ls ./song_flacs/*.flac | wc -l"
      ],
      "execution_count": 6,
      "outputs": [
        {
          "output_type": "stream",
          "name": "stdout",
          "text": [
            "100\n"
          ]
        }
      ]
    },
    {
      "cell_type": "code",
      "metadata": {
        "id": "SQeka3-TuMBP"
      },
      "source": [
        "# remove half-completed copies if need be\n",
        "!rm /content/song_flacs/*.flac_.gstmp"
      ],
      "execution_count": 7,
      "outputs": []
    },
    {
      "cell_type": "code",
      "metadata": {
        "colab": {
          "base_uri": "https://localhost:8080/"
        },
        "id": "ND6k-pGJtaN4",
        "outputId": "8481a6c9-0d80-43f2-f21d-a2057a5dd9c4"
      },
      "source": [
        "# load metadata\n",
        "!gsutil cp gs://deepclustermusic/gcp_meta.csv ."
      ],
      "execution_count": null,
      "outputs": [
        {
          "output_type": "stream",
          "name": "stdout",
          "text": [
            "Copying gs://deepclustermusic/gcp_meta.csv...\n",
            "/ [1 files][744.3 KiB/744.3 KiB]                                                \n",
            "Operation completed over 1 objects/744.3 KiB.                                    \n"
          ]
        }
      ]
    },
    {
      "cell_type": "code",
      "metadata": {
        "id": "SEbSffRnkxrA"
      },
      "source": [
        "# upload data to google cloud\n",
        "# !gsutil cp testresults.csv gs://deepclustermusic/"
      ],
      "execution_count": null,
      "outputs": []
    },
    {
      "cell_type": "code",
      "metadata": {
        "id": "8tAgHciqjFVw"
      },
      "source": [
        "import glob\n",
        "\n",
        "import numpy as np\n",
        "import pandas as pd\n",
        "\n",
        "from scipy.stats import kurtosis, skew\n",
        "\n",
        "import librosa\n",
        "import librosa.feature\n",
        "import torchaudio\n",
        "\n",
        "\n",
        "import torch"
      ],
      "execution_count": 12,
      "outputs": []
    },
    {
      "cell_type": "code",
      "metadata": {
        "id": "YpvrofZcaAXJ"
      },
      "source": [
        "# set mel configurations\n",
        "run_config = dict(\n",
        "    sample_rate=44100,\n",
        "    n_fft=4096,\n",
        "    n_mels=224,\n",
        "    hop_length=441,\n",
        "    win_length=1764,\n",
        "    f_max=20000\n",
        ")"
      ],
      "execution_count": null,
      "outputs": []
    },
    {
      "cell_type": "code",
      "metadata": {
        "id": "KXk0QmElWtjt"
      },
      "source": [
        "flacs = list(glob.glob('/content/song_flacs/*.flac'))"
      ],
      "execution_count": 13,
      "outputs": []
    },
    {
      "cell_type": "code",
      "metadata": {
        "id": "GZ6Ou_bufIvg"
      },
      "source": [
        "songs = []\n",
        "for fname in flacs:\n",
        "  song_id = fname.split('/')[-1].split('.')[0]\n",
        "  signal, sr = torchaudio.load(fname)\n",
        "  channel = signal.ndim\n",
        "\n",
        "  # convert any stereo to mono\n",
        "  if channel == 2:\n",
        "    signal = torch.mean(signal, dim=0, keepdim=True)\n",
        "\n",
        "  num_elements = torch.numel(signal)\n",
        "  duration = int(num_elements/sr)\n",
        "\n",
        "  if signal is None:\n",
        "    continue\n",
        "\n",
        "  # # librosa functions\n",
        "  # if channel == 2:\n",
        "  #   signal = (signal[:,0] + signal[:,1])/2\n",
        "  # duration = int(signal.shape[0]/sr)\n",
        "\n",
        "  if duration < 120 or duration > 480:\n",
        "    continue\n",
        "\n",
        "  # transpose and squash dim, librosa expects dim=(n,) whereas torchaudio returns (1, n)\n",
        "  signal = signal.T\n",
        "  signal = signal[:,0]\n",
        "  s = {\n",
        "      'id': song_id,\n",
        "      'signal': signal.numpy(), # need to convert to np array, memory leak in storing tensor in df\n",
        "      'sr': sr,\n",
        "      'channel': channel,\n",
        "      'duration': duration\n",
        "  }\n",
        "  songs.append(s)"
      ],
      "execution_count": 44,
      "outputs": []
    },
    {
      "cell_type": "code",
      "metadata": {
        "id": "aUDO0K1RfMSz"
      },
      "source": [
        "df = pd.DataFrame(songs)"
      ],
      "execution_count": 45,
      "outputs": []
    },
    {
      "cell_type": "code",
      "metadata": {
        "id": "5EfIreD9tUN4"
      },
      "source": [
        "# metadata = pd.read_csv('gcp_meta.csv')\n",
        "\n",
        "# update songs with their corresponding metadata\n",
        "full_df = df.merge(metadata, on='id', how='left')\n",
        "full_df.reset_index()\n",
        "full_df.head()\n",
        "# temporary for now (as metadata not fully synced between everyone)\n",
        "df = full_df.dropna()\n",
        "df.head()"
      ],
      "execution_count": null,
      "outputs": []
    },
    {
      "cell_type": "code",
      "metadata": {
        "colab": {
          "base_uri": "https://localhost:8080/",
          "height": 204
        },
        "id": "1vRP5SZes4N_",
        "outputId": "41e70fa2-1e4d-4e00-8aa0-1f30b4a0b0ad"
      },
      "source": [
        "# remove rows where no signal was able to be extracted (at least one case of it due to being an interview)\n",
        "df = df[df['signal'].map(lambda x: len(x) > 0)]\n",
        "df.reset_index()\n",
        "df.head()"
      ],
      "execution_count": null,
      "outputs": [
        {
          "output_type": "execute_result",
          "data": {
            "text/html": [
              "<div>\n",
              "<style scoped>\n",
              "    .dataframe tbody tr th:only-of-type {\n",
              "        vertical-align: middle;\n",
              "    }\n",
              "\n",
              "    .dataframe tbody tr th {\n",
              "        vertical-align: top;\n",
              "    }\n",
              "\n",
              "    .dataframe thead th {\n",
              "        text-align: right;\n",
              "    }\n",
              "</style>\n",
              "<table border=\"1\" class=\"dataframe\">\n",
              "  <thead>\n",
              "    <tr style=\"text-align: right;\">\n",
              "      <th></th>\n",
              "      <th>id</th>\n",
              "      <th>signal</th>\n",
              "      <th>sr</th>\n",
              "      <th>channel</th>\n",
              "      <th>artist</th>\n",
              "      <th>title</th>\n",
              "      <th>duration</th>\n",
              "    </tr>\n",
              "  </thead>\n",
              "  <tbody>\n",
              "    <tr>\n",
              "      <th>0</th>\n",
              "      <td>0gOFu5o5DRk</td>\n",
              "      <td>[tensor(0.), tensor(0.)]</td>\n",
              "      <td>44100</td>\n",
              "      <td>2</td>\n",
              "      <td>311</td>\n",
              "      <td>311 jackolantern's weather</td>\n",
              "      <td>204.0</td>\n",
              "    </tr>\n",
              "    <tr>\n",
              "      <th>1</th>\n",
              "      <td>0vyrgy_cnXs</td>\n",
              "      <td>[tensor(0.), tensor(0.)]</td>\n",
              "      <td>44100</td>\n",
              "      <td>2</td>\n",
              "      <td>JAW</td>\n",
              "      <td>JAW - Cymbalta</td>\n",
              "      <td>283.0</td>\n",
              "    </tr>\n",
              "    <tr>\n",
              "      <th>3</th>\n",
              "      <td>15rOzIzptt0</td>\n",
              "      <td>[tensor(-0.0121), tensor(-0.0116)]</td>\n",
              "      <td>48000</td>\n",
              "      <td>2</td>\n",
              "      <td>Erika Jayne</td>\n",
              "      <td>Get It Tonight (feat. Flo Rida) (Vino Mix Mix)</td>\n",
              "      <td>289.0</td>\n",
              "    </tr>\n",
              "    <tr>\n",
              "      <th>9</th>\n",
              "      <td>13oxxEOAT0M</td>\n",
              "      <td>[tensor(-0.0010), tensor(-0.0009)]</td>\n",
              "      <td>48000</td>\n",
              "      <td>2</td>\n",
              "      <td>Andrei Krylov</td>\n",
              "      <td>Army of the Dark Souls Marching On</td>\n",
              "      <td>195.0</td>\n",
              "    </tr>\n",
              "    <tr>\n",
              "      <th>10</th>\n",
              "      <td>0jEX7AXsXRM</td>\n",
              "      <td>[tensor(1.1623e-05), tensor(-4.4942e-05)]</td>\n",
              "      <td>48000</td>\n",
              "      <td>2</td>\n",
              "      <td>Buddy Ace</td>\n",
              "      <td>That's the Way Love Is</td>\n",
              "      <td>177.0</td>\n",
              "    </tr>\n",
              "  </tbody>\n",
              "</table>\n",
              "</div>"
            ],
            "text/plain": [
              "             id  ... duration\n",
              "0   0gOFu5o5DRk  ...    204.0\n",
              "1   0vyrgy_cnXs  ...    283.0\n",
              "3   15rOzIzptt0  ...    289.0\n",
              "9   13oxxEOAT0M  ...    195.0\n",
              "10  0jEX7AXsXRM  ...    177.0\n",
              "\n",
              "[5 rows x 7 columns]"
            ]
          },
          "metadata": {},
          "execution_count": 39
        }
      ]
    },
    {
      "cell_type": "code",
      "metadata": {
        "id": "ya92UxxIyJmH"
      },
      "source": [
        "signals_df = df.copy()"
      ],
      "execution_count": 46,
      "outputs": []
    },
    {
      "cell_type": "code",
      "metadata": {
        "id": "i3se2GA8522X",
        "colab": {
          "base_uri": "https://localhost:8080/"
        },
        "outputId": "994779e3-adcd-4ecf-b470-bc7d36d4fe26"
      },
      "source": [
        "print(signals_df.head(), signals_df.shape)\n",
        "print(signals_df['signal'].iloc[0].shape)"
      ],
      "execution_count": 47,
      "outputs": [
        {
          "output_type": "stream",
          "name": "stdout",
          "text": [
            "            id  ... duration\n",
            "0  -NdqcX_nZrs  ...      187\n",
            "1  -Hx5BToQ3Nk  ...      210\n",
            "2  -dF2a9P9gsY  ...      206\n",
            "3  05Q5akU8d7g  ...      204\n",
            "4  -xLidUmccx4  ...      310\n",
            "\n",
            "[5 rows x 5 columns] (92, 5)\n",
            "(8988909,)\n"
          ]
        }
      ]
    },
    {
      "cell_type": "code",
      "metadata": {
        "id": "b9JXml2s0ouV"
      },
      "source": [
        "features = [\n",
        "            'zero_crossing_rate', # percussive sounds\n",
        "            'spectral_centroid', # brightness\n",
        "            'spectral_rolloff', # majority of frequency within which song presides\n",
        "            'mfcc', # the perceptual shape(envelope of time power spectrum) of the sound\n",
        "            'spectral_contrast', # differences in peaks and valleys of amplitudes of the sound\n",
        "            'spectral_bandwidth', # total range of frequency bands\n",
        "            'spectral_flatness' # range between noisiness and 'tone'-ness of song (tone as in a pure note tone)\n",
        "            ]\n",
        "\n",
        "ZCR_BIAS = 1e-9\n",
        "\n",
        "for f in features:\n",
        "  audio_func = getattr(librosa.feature, f)\n",
        "\n",
        "  if f == 'zero_crossing_rate':\n",
        "    signals_df[f] = signals_df.apply(lambda x: audio_func(y=(x['signal'] + ZCR_BIAS)), axis=1)\n",
        "  elif f == 'spectral_flatness':\n",
        "    signals_df[f] = signals_df.apply(lambda x: audio_func(y=x['signal']), axis=1)\n",
        "  else:\n",
        "    signals_df[f] = signals_df.apply(lambda x: audio_func(y=x['signal'], sr=x['sr']), axis=1)\n",
        "    \n",
        "  signals_df['%s_mean'%f] = signals_df[f].apply(lambda x: np.mean(x))\n",
        "  signals_df['%s_var'%f] = signals_df[f].apply(lambda x: np.var(x, ddof=1))\n",
        "  signals_df['%s_kurtosis'%f] = signals_df[f].apply(lambda x: kurtosis(np.ndarray.flatten(x), fisher=True))\n",
        "  signals_df['%s_skew'%f] = signals_df[f].apply(lambda x: skew(np.ndarray.flatten(x)))\n",
        "\n",
        "  signals_df.drop(columns=[f], inplace=True, axis=1)\n"
      ],
      "execution_count": 48,
      "outputs": []
    },
    {
      "cell_type": "code",
      "metadata": {
        "id": "idI8vQrlBhSA"
      },
      "source": [
        "signals_df.head()"
      ],
      "execution_count": null,
      "outputs": []
    }
  ]
}