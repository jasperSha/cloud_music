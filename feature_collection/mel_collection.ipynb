{
  "nbformat": 4,
  "nbformat_minor": 0,
  "metadata": {
    "colab": {
      "name": "mel_collection.ipynb",
      "provenance": [],
      "collapsed_sections": [],
      "machine_shape": "hm",
      "authorship_tag": "ABX9TyNtft7dA6TqH0nBBMizLa6e",
      "include_colab_link": true
    },
    "kernelspec": {
      "name": "python3",
      "display_name": "Python 3"
    },
    "language_info": {
      "name": "python"
    },
    "accelerator": "TPU"
  },
  "cells": [
    {
      "cell_type": "markdown",
      "metadata": {
        "id": "view-in-github",
        "colab_type": "text"
      },
      "source": [
        "<a href=\"https://colab.research.google.com/github/jasperSha/cloud_music/blob/main/feature_collection/mel_collection.ipynb\" target=\"_parent\"><img src=\"https://colab.research.google.com/assets/colab-badge.svg\" alt=\"Open In Colab\"/></a>"
      ]
    },
    {
      "cell_type": "code",
      "metadata": {
        "id": "yyB1URlsGPD_"
      },
      "source": [
        "from google.colab import auth\n",
        "auth.authenticate_user()"
      ],
      "execution_count": 1,
      "outputs": []
    },
    {
      "cell_type": "code",
      "metadata": {
        "id": "2Sd1yZLvGVko"
      },
      "source": [
        "!gcloud projects list"
      ],
      "execution_count": null,
      "outputs": []
    },
    {
      "cell_type": "code",
      "metadata": {
        "id": "catXk9p_GWGX"
      },
      "source": [
        "import os\n",
        "\n",
        "os.makedirs('song_images', exist_ok=True)\n",
        "\n",
        "os.makedirs('song_flacs', exist_ok=True)"
      ],
      "execution_count": 2,
      "outputs": []
    },
    {
      "cell_type": "code",
      "metadata": {
        "id": "40OZHaOuGb3n"
      },
      "source": [
        "# load audio every N batches\n",
        "# have to manually enter (only have to change tail input to starting index each time, head just adds to it)\n",
        "start = 0\n",
        "end = 10\n",
        "\n",
        "'''\n",
        "TODO: for each batch, create csv of just the id's of song images created, use that for reference(instead of loading the pngs)\n",
        "'''\n",
        "# load image records data\n",
        "!gsutil -m cp gs://deepclustermusic/song_images/*.csv .\n",
        "\n",
        "!gsutil ls gs://deepclustermusic/flac_files/spotify_yt_data/*.flac | tail -n +0 | head -n 10 | gsutil -m cp -n -I './song_flacs'\n"
      ],
      "execution_count": null,
      "outputs": []
    },
    {
      "cell_type": "code",
      "metadata": {
        "id": "7JYNW0U9GuhA"
      },
      "source": [
        "!pip install fastaudio"
      ],
      "execution_count": null,
      "outputs": []
    },
    {
      "cell_type": "code",
      "metadata": {
        "id": "hjLjT5UNosBq"
      },
      "source": [
        "import glob\n",
        "\n",
        "import numpy as np\n",
        "import pandas as pd\n",
        "\n",
        "import librosa\n",
        "import librosa.feature\n",
        "\n",
        "import torchaudio\n",
        "import torch"
      ],
      "execution_count": null,
      "outputs": []
    },
    {
      "cell_type": "code",
      "metadata": {
        "id": "gZvOKm2MrScV"
      },
      "source": [
        "mel_config = dict(\n",
        "    sample_rate=44100,\n",
        "    hop_length=308,\n",
        "    win_length=1024, # 1024 combined with n_fft=4096 best; 2205 -> 50ms, 4410 -> 100ms\n",
        "    n_mels=224,\n",
        "    n_fft=4096,\n",
        "    f_max=22500, # get the cymbals, hi-hats, etc frequencies >20k\n",
        ")"
      ],
      "execution_count": null,
      "outputs": []
    },
    {
      "cell_type": "code",
      "metadata": {
        "id": "dzTOVNLrtvw4"
      },
      "source": [
        "def normalize_sample(waveform):\n",
        "  '''\n",
        "  @param waveform: nd array\n",
        "  '''\n",
        "  return (waveform - waveform.mean()) / waveform.std()"
      ],
      "execution_count": null,
      "outputs": []
    },
    {
      "cell_type": "code",
      "metadata": {
        "id": "pFoHM6PRovSz"
      },
      "source": [
        "flacs = list(glob.glob('/content/song_flacs/*.flac'))\n",
        "\n",
        "fin = list(glob.glob('*.csv'))\n",
        "finished_df = pd.concat((pd.read_csv(f) for f in finished))"
      ],
      "execution_count": null,
      "outputs": []
    },
    {
      "cell_type": "code",
      "metadata": {
        "id": "WM6rV0PYo70t"
      },
      "source": [
        "songs = []\n",
        "for fname in flacs:\n",
        "  song_id = fname.split('/')[-1].split('.')[0]\n",
        "\n",
        "  if song_id in finished_df['id'].values:\n",
        "    print('already finished this one')\n",
        "    continue\n",
        "\n",
        "  signal, sr = torchaudio.load(fname)\n",
        "  channel = signal.ndim\n",
        "\n",
        "  # convert any stereo to mono\n",
        "  if channel == 2:\n",
        "    signal = torch.mean(signal, dim=0, keepdim=True)\n",
        "\n",
        "  if signal is None:\n",
        "    continue\n",
        "\n",
        "  # get duration in seconds\n",
        "  num_elements = torch.numel(signal)\n",
        "  duration = int(num_elements/sr)\n",
        "\n",
        "  if duration < 120 or duration > 480:\n",
        "    continue\n",
        "\n"
      ],
      "execution_count": null,
      "outputs": []
    },
    {
      "cell_type": "code",
      "metadata": {
        "id": "ReIEQ35IwoPw"
      },
      "source": [
        ""
      ],
      "execution_count": null,
      "outputs": []
    }
  ]
}