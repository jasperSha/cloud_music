{
  "nbformat": 4,
  "nbformat_minor": 0,
  "metadata": {
    "colab": {
      "name": "frequency_collection.ipynb",
      "provenance": [],
      "collapsed_sections": [],
      "machine_shape": "hm",
      "authorship_tag": "ABX9TyNWVi9K2kkBpBGeb2Kgb+Kt",
      "include_colab_link": true
    },
    "kernelspec": {
      "name": "python3",
      "display_name": "Python 3"
    },
    "language_info": {
      "name": "python"
    }
  },
  "cells": [
    {
      "cell_type": "markdown",
      "metadata": {
        "id": "view-in-github",
        "colab_type": "text"
      },
      "source": [
        "<a href=\"https://colab.research.google.com/github/jasperSha/cloud_music/blob/main/feature_collection/frequency_collection.ipynb\" target=\"_parent\"><img src=\"https://colab.research.google.com/assets/colab-badge.svg\" alt=\"Open In Colab\"/></a>"
      ]
    },
    {
      "cell_type": "code",
      "metadata": {
        "id": "6cq0dRNegEmo"
      },
      "source": [
        "from google.colab import auth\n",
        "auth.authenticate_user()"
      ],
      "execution_count": 1,
      "outputs": []
    },
    {
      "cell_type": "code",
      "metadata": {
        "id": "8yqnUUzUjJHS"
      },
      "source": [
        "import os\n",
        "# create virtual directory for frequency data\n",
        "os.makedirs('song_freqs', exist_ok=True)\n",
        "\n",
        "# create virtual directory for the flac files\n",
        "os.makedirs('song_flacs', exist_ok=True)"
      ],
      "execution_count": 2,
      "outputs": []
    },
    {
      "cell_type": "code",
      "metadata": {
        "id": "8vAB5y1jh9Nu"
      },
      "source": [
        "# load audio every N batches\n",
        "# have to manually enter (only have to change tail input to starting index each time, head just adds to it)\n",
        "start = 15501\n",
        "end = start + 249\n",
        "\n",
        "# load frequency data\n",
        "!gsutil -m cp gs://deepclustermusic/song_freqs/*.csv .\n",
        "\n",
        "!gsutil ls gs://deepclustermusic/flac_files/*.flac | tail -n +15501 | head -n 250 | gsutil -m cp -n -I './song_flacs' &> /dev/null\n"
      ],
      "execution_count": null,
      "outputs": []
    },
    {
      "cell_type": "code",
      "metadata": {
        "colab": {
          "base_uri": "https://localhost:8080/"
        },
        "id": "fcJWyFvy0yPW",
        "outputId": "13feae3b-5729-4d80-f360-9877127ebe16"
      },
      "source": [
        "!ls song_flacs/*.flac | wc -l"
      ],
      "execution_count": 4,
      "outputs": [
        {
          "output_type": "stream",
          "name": "stdout",
          "text": [
            "ls: cannot access 'song_flacs/*.flac': No such file or directory\n",
            "0\n"
          ]
        }
      ]
    },
    {
      "cell_type": "code",
      "metadata": {
        "id": "5lv-dsg1YK9e"
      },
      "source": [
        "!pip install fastaudio &> /dev/null"
      ],
      "execution_count": 5,
      "outputs": []
    },
    {
      "cell_type": "code",
      "metadata": {
        "id": "8tAgHciqjFVw"
      },
      "source": [
        "import glob\n",
        "\n",
        "import numpy as np\n",
        "import pandas as pd\n",
        "\n",
        "from scipy.stats import kurtosis, skew\n",
        "\n",
        "import librosa\n",
        "import librosa.feature\n",
        "\n",
        "import torchaudio\n",
        "import torch"
      ],
      "execution_count": 6,
      "outputs": []
    },
    {
      "cell_type": "code",
      "metadata": {
        "id": "KXk0QmElWtjt"
      },
      "source": [
        "flacs = list(glob.glob('/content/song_flacs/*.flac'))\n",
        "\n",
        "# read finished frequency features in here\n",
        "finished = list(glob.glob('*.csv'))\n",
        "finished_df = pd.concat((pd.read_csv(f) for f in finished))\n",
        "del finished"
      ],
      "execution_count": 7,
      "outputs": []
    },
    {
      "cell_type": "code",
      "metadata": {
        "id": "GZ6Ou_bufIvg"
      },
      "source": [
        "songs = []\n",
        "for fname in flacs:\n",
        "  song_id = fname.split('/')[-1].split('.')[0]\n",
        "  print('attempting: ', song_id)\n",
        "  if song_id in finished_df['id'].values:\n",
        "    print('already finished this one')\n",
        "    continue\n",
        "\n",
        "  signal, sr = torchaudio.load(fname)\n",
        "  channel = signal.ndim\n",
        "\n",
        "  # convert any stereo to mono\n",
        "  if channel == 2:\n",
        "    signal = torch.mean(signal, dim=0, keepdim=True)\n",
        "\n",
        "  # get duration in seconds\n",
        "  num_elements = torch.numel(signal)\n",
        "  duration = int(num_elements/sr)\n",
        "\n",
        "  if duration < 120 or duration > 480:\n",
        "    continue\n",
        "\n",
        "  # transpose and squash dim, librosa expects dim=(n,) whereas torchaudio returns (1, n)\n",
        "  signal = signal.T\n",
        "  signal = signal[:,0]\n",
        "  signal = signal.numpy()\n",
        "\n",
        "  # check for nan or zero signals\n",
        "  if np.isnan(signal).any():\n",
        "    continue\n",
        "  if not np.any(signal):\n",
        "    continue\n",
        "\n",
        "  s = {\n",
        "      'id': song_id,\n",
        "      'signal': signal,\n",
        "      'sr': sr,\n",
        "      'channel': channel,\n",
        "      'duration': duration\n",
        "  }\n",
        "  songs.append(s)\n",
        "\n",
        "signals_df = pd.DataFrame(songs)\n",
        "del songs\n",
        "\n",
        "features = [\n",
        "            'zero_crossing_rate', # percussive sounds\n",
        "            'spectral_centroid', # brightness\n",
        "            'spectral_rolloff', # majority of frequency within which song presides\n",
        "            'mfcc', # the perceptual shape(envelope of time power spectrum) of the sound\n",
        "            'spectral_contrast', # differences in peaks and valleys of amplitudes of the sound\n",
        "            'spectral_bandwidth', # total range of frequency bands\n",
        "            'spectral_flatness' # range between noisiness and 'tone'-ness of song (tone as in a pure note tone)\n",
        "            ]\n",
        "\n",
        "ZCR_BIAS = 1e-9\n",
        "\n",
        "for f in features:\n",
        "  audio_func = getattr(librosa.feature, f)\n",
        "\n",
        "  if f == 'zero_crossing_rate':\n",
        "    signals_df[f] = signals_df.apply(lambda x: audio_func(y=(x['signal'] + ZCR_BIAS)), axis=1)\n",
        "  elif f == 'spectral_flatness':\n",
        "    signals_df[f] = signals_df.apply(lambda x: audio_func(y=x['signal']), axis=1)\n",
        "  else:\n",
        "    signals_df[f] = signals_df.apply(lambda x: audio_func(y=x['signal'], sr=x['sr']), axis=1)\n",
        "    \n",
        "  signals_df['%s_mean'%f] = signals_df[f].apply(lambda x: np.mean(x))\n",
        "  signals_df['%s_var'%f] = signals_df[f].apply(lambda x: np.var(x, ddof=1))\n",
        "  signals_df['%s_kurtosis'%f] = signals_df[f].apply(lambda x: kurtosis(np.ndarray.flatten(x), fisher=True))\n",
        "  signals_df['%s_skew'%f] = signals_df[f].apply(lambda x: skew(np.ndarray.flatten(x)))\n",
        "\n",
        "  signals_df.drop(columns=[f], inplace=True, axis=1)\n",
        "\n",
        "# need to drop signal column or storage will blow up\n",
        "signals_df.drop(columns=['signal'], inplace=True, axis=1)\n",
        "print(signals_df.head())\n",
        "print(start, end)"
      ],
      "execution_count": null,
      "outputs": []
    },
    {
      "cell_type": "code",
      "metadata": {
        "id": "hPbH37mLRYIH"
      },
      "source": [
        "signals_df.to_csv('%s_%s.csv'%(start, end), encoding='utf-8', index=False)"
      ],
      "execution_count": null,
      "outputs": []
    },
    {
      "cell_type": "code",
      "metadata": {
        "id": "_4Z6CPRTTvC_"
      },
      "source": [
        "# !gsutil cp -n 15501_15750.csv gs://deepclustermusic/song_freqs/"
      ],
      "execution_count": null,
      "outputs": []
    },
    {
      "cell_type": "code",
      "metadata": {
        "id": "8bnDdgHCpnId"
      },
      "source": [
        ""
      ],
      "execution_count": null,
      "outputs": []
    }
  ]
}