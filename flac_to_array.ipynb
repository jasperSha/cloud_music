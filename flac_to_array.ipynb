{
 "cells": [
  {
   "cell_type": "code",
   "execution_count": 3,
   "id": "58b9e576",
   "metadata": {},
   "outputs": [],
   "source": [
    "import os\n",
    "import glob\n",
    "\n",
    "import numpy as np\n",
    "import pandas as pd\n",
    "\n",
    "import soundfile as sf"
   ]
  },
  {
   "cell_type": "code",
   "execution_count": 4,
   "id": "a8ad6b57",
   "metadata": {},
   "outputs": [],
   "source": [
    "# jupyter kernel interrupt sends SIGINT so need to implement this manually for some reason\n",
    "import signal, sys\n",
    "terminate = False\n",
    "\n",
    "def signal_handling(signum, frame):\n",
    "    global terminate\n",
    "    terminate = True\n",
    "    "
   ]
  },
  {
   "cell_type": "code",
   "execution_count": null,
   "id": "0330f4cb",
   "metadata": {},
   "outputs": [],
   "source": [
    "# signal needs to be in this cell for the SIGINT to flow through (SIX YEAR OLD BUG??)\n",
    "signal.signal(signal.SIGINT, signal_handling)\n",
    "\n",
    "'''\n",
    "this script takes the flac files, converts them to numpy arrays, gets some frequency metadata like\n",
    "sampling rate and number of channels and concats them with metadata.csv (join on song id) then saves\n",
    "the numpy arrays as csv files, named by song id\n",
    "\n",
    "the function has a terminate option, so hit ctrl+c while in this kernel to stop the script, and it will\n",
    "also print the current index of the flac files.\n",
    "\n",
    "NOTE: the order of flac files from glob.glob(directory) is sorted in order of what the ls command would return,\n",
    "so if there are new files added to this directory the current index will be out of date, so do not run this\n",
    "until ALL songs have been downloaded to the directory (so order doesn't change on each iteration of script)\n",
    "of course this isn't relevant if you can run the script all the way through the thousands of songs, but it will\n",
    "take a while.\n",
    "'''\n",
    "\n",
    "songs = []\n",
    "metadata = []\n",
    "\n",
    "curr_count = 5\n",
    "# first we just gather all the files that we have, set their id in the same place in the songs list\n",
    "fnames = list(glob.glob(\"../youtubescraper/spotify_yt_data/*.flac\"))\n",
    "\n",
    "for fname in fnames[curr_count:]:\n",
    "    if terminate:\n",
    "        terminate=False\n",
    "        print(\"current index: \", curr_count)\n",
    "        print(\"metadata length: \", len(metadata))\n",
    "        break\n",
    "    if curr_count == 500:\n",
    "        break\n",
    "    song_id = fname.split('/')[-1].split('.')[0]\n",
    "    \n",
    "    data, sr = sf.read(fname)\n",
    "    channel = data.ndim\n",
    "    \n",
    "    # if stereo, we average the two channels of the signal to 1-dim\n",
    "    if channel == 2:\n",
    "        data = (data[:,0] + data[:,1]) / 2\n",
    "    \n",
    "    # store metadata for updating the csv later\n",
    "    meta = {\n",
    "        'id': song_id,\n",
    "        'sr': sr,\n",
    "        'channel': channel\n",
    "    }\n",
    "    metadata.append(meta)\n",
    "    \n",
    "    with open('./signal_data/%s.csv'%song_id, 'w') as f:\n",
    "        np.savetxt(f, data)\n",
    "\n",
    "    curr_count += 1"
   ]
  },
  {
   "cell_type": "code",
   "execution_count": null,
   "id": "32c0f53f",
   "metadata": {},
   "outputs": [],
   "source": [
    "'''\n",
    "this cell for taking whatever's currently in the metadata list, then updating the metadata.csv with it\n",
    "'''\n",
    "\n",
    "# convert new meta to df, and load old metadata\n",
    "new_meta = pd.DataFrame(metadata)\n",
    "meta_df = pd.read_csv('./metadata.csv')\n",
    "\n",
    "# align on song id, and then update with sampling rate and number of channels\n",
    "new_meta.set_index('id', inplace=True)\n",
    "meta_df.update(new_meta)\n",
    "\n",
    "# setting column order just in case, then overwriting entire metadata file\n",
    "column_order = ['id', 'artist', 'title', 'duration', 'sr', 'channel']\n",
    "meta_df.to_csv('./metadata.csv', columns=column_order, encoding='utf-8', index=False)"
   ]
  }
 ],
 "metadata": {
  "kernelspec": {
   "display_name": "Python 3",
   "language": "python",
   "name": "python3"
  },
  "language_info": {
   "codemirror_mode": {
    "name": "ipython",
    "version": 3
   },
   "file_extension": ".py",
   "mimetype": "text/x-python",
   "name": "python",
   "nbconvert_exporter": "python",
   "pygments_lexer": "ipython3",
   "version": "3.8.10"
  }
 },
 "nbformat": 4,
 "nbformat_minor": 5
}
