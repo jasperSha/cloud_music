{
 "cells": [
  {
   "cell_type": "code",
   "execution_count": 86,
   "id": "a3d1791a",
   "metadata": {},
   "outputs": [],
   "source": [
    "import os\n",
    "import glob\n",
    "import IPython.display as ipd\n",
    "\n",
    "import numpy as np\n",
    "from scipy.stats import norm, kurtosis, skew\n",
    "\n",
    "from sklearn.preprocessing import StandardScaler\n",
    "from sklearn.decomposition import PCA\n",
    "\n",
    "from sklearn.cluster import KMeans\n",
    "from sklearn.neighbors import KNeighborsClassifier\n",
    "\n",
    "import matplotlib.pyplot as plt\n",
    "import matplotlib.style as ms\n",
    "ms.use('seaborn-muted')\n",
    "%matplotlib inline\n",
    "\n",
    "import librosa\n",
    "import librosa.display as ld\n",
    "from scipy import signal\n",
    "import soundfile as sf\n",
    "\n",
    "import pandas as pd\n",
    "import torch"
   ]
  },
  {
   "cell_type": "code",
   "execution_count": 2,
   "id": "63b9fc5c",
   "metadata": {},
   "outputs": [],
   "source": [
    "pd.set_option('display.max_rows', 500)"
   ]
  },
  {
   "cell_type": "code",
   "execution_count": 3,
   "id": "082fc3d0",
   "metadata": {},
   "outputs": [],
   "source": [
    "# jupyter kernel interrupt sends SIGINT so need to implement this manually for some reason\n",
    "import signal, sys\n",
    "terminate = False\n",
    "\n",
    "def signal_handling(signum, frame):\n",
    "    global terminate\n",
    "    terminate = True\n",
    "    \n",
    "'''\n",
    "compiling all the spectrograms here\n",
    "\n",
    "\n",
    "for s in curr_songs:\n",
    "#     print(s['title'])\n",
    "    signal, sr = s['signal'], s['sr']\n",
    "    print(signal.shape)\n",
    "    \n",
    "    librosa.display.waveplot(signal, sr=sr)\n",
    "    plt.show()\n",
    "    \n",
    "    X = librosa.stft(signal)\n",
    "    X_db = librosa.amplitude_to_db(abs(X))\n",
    "    plt.figure(figsize=(14, 5))\n",
    "    ld.specshow(X_db, sr=sr, x_axis='time', y_axis='hz')\n",
    "    plt.colorbar()\n",
    "    \n",
    "    plt.show()\n",
    "'''"
   ]
  },
  {
   "cell_type": "code",
   "execution_count": null,
   "id": "e2df7b6f",
   "metadata": {},
   "outputs": [],
   "source": [
    "'''\n",
    "central moments:\n",
    "    - mean, std_dev, skewness, and kurtosis of signal amplitude\n",
    "zero crossing rate (quantify the \"noisiness\" of timbral texture):\n",
    "    - divide entire signal into smaller frames\n",
    "    - find num of zcr per frame (frame_length=2048)\n",
    "    - feature: average + sigma of zcr across all frames\n",
    "tempo:\n",
    "    - librosa has a function for it (computes tempogram, estimates single value)\n",
    "chroma features:\n",
    "    - aggregate across frames --> mean + sigma\n",
    "\n",
    "spectral centroid (geometric mean of fourier spectrum of audio signal, ie overall brightness or darkness of timbre)\n",
    "rolloff frequency (similar to general brightness of song)\n",
    "mel frequency cepstral coefficients(mimics human auditory spectrum in filtering spectrum)\n",
    "RMS(amplitude in time domain, loudness measure)\n",
    "spectral contrast:\n",
    "    - diff btwn max and min magnitudes of frequencies\n",
    "spectral bandwidth\n",
    "spectral flatness\n",
    "chromagram of power spectrogram\n",
    "silence counting\n",
    "\n",
    "\n",
    "note: clustering on zero crossing rate can provide a way to discriminate between some audio that may be only speech\n",
    "vs the music audio we want (voice-only includes a much higher zero crossing rate), i think silence counting can also\n",
    "apply here\n",
    "\n",
    "'''"
   ]
  },
  {
   "cell_type": "code",
   "execution_count": 4,
   "id": "971fae75",
   "metadata": {},
   "outputs": [
    {
     "name": "stdout",
     "output_type": "stream",
     "text": [
      "300\n"
     ]
    }
   ],
   "source": [
    "songs = []\n",
    "curr_count = 0\n",
    "\n",
    "# signal needs to be in this cell for the SIGINT to flow through (SIX YEAR OLD BUG??)\n",
    "signal.signal(signal.SIGINT, signal_handling)\n",
    "\n",
    "for fname in glob.glob(\"../youtubescraper/spotify_yt_data/*.flac\"):\n",
    "    try:\n",
    "        if curr_count == 300:\n",
    "            break\n",
    "        if terminate:\n",
    "            terminate=False\n",
    "            break\n",
    "        song_id = fname.split('/')[-1].split('.')[0]\n",
    "        data, sr = sf.read(fname)\n",
    "\n",
    "        # mono\n",
    "        channel = 1\n",
    "\n",
    "        # stereo\n",
    "        if data.ndim == 2:\n",
    "            data = (data[:,0] + data[:,1]) / 2\n",
    "            channel = 2\n",
    "\n",
    "        s = {\n",
    "            'id': song_id,\n",
    "            'signal': data,\n",
    "            'sr': sr,\n",
    "            'channel': channel\n",
    "        }\n",
    "        songs.append(s)\n",
    "        curr_count += 1\n",
    "    except:\n",
    "        print(fname)\n",
    "        continue\n",
    "print(curr_count)"
   ]
  },
  {
   "cell_type": "code",
   "execution_count": 6,
   "id": "e694b9e5",
   "metadata": {},
   "outputs": [
    {
     "name": "stdout",
     "output_type": "stream",
     "text": [
      "            id              artist  \\\n",
      "0  l_7TWVX4EOk                 NaN   \n",
      "1  fRPNEtRakns                 NaN   \n",
      "2  BbgWSN95V8k  Rebirth Brass Band   \n",
      "3  hJsOd3PWcAM      Gregory Isaacs   \n",
      "4  XQF69A3oGjM              Koffee   \n",
      "\n",
      "                                               title  duration  \n",
      "0  Anarchy in the U.K. Lullaby Versions of Sex Pi...       215  \n",
      "1  WITHOUT YOU (Workout Remix) by Power Music Wor...       221  \n",
      "2                  Feel Like Funking It Up (Part II)       410  \n",
      "3                     Gregory Isaacs - Long Sentence       221  \n",
      "4              Koffee - W (Official Video) ft. Gunna       281  \n"
     ]
    }
   ],
   "source": [
    "metadata = pd.read_csv(\"./metadata.csv\")\n",
    "print(metadata.head())"
   ]
  },
  {
   "cell_type": "code",
   "execution_count": 7,
   "id": "3d368833",
   "metadata": {},
   "outputs": [],
   "source": [
    "# keeping one channel songs, everything is mono now, appending some metadata here\n",
    "for s in songs:\n",
    "    s_metadata = metadata.loc[metadata['id'] == s['id']]\n",
    "    s['artist'] = s_metadata['artist'].iloc[0]\n",
    "    s['title'] = s_metadata['title'].iloc[0]\n",
    "    s['duration'] = s_metadata['duration'].iloc[0]\n",
    "    "
   ]
  },
  {
   "cell_type": "code",
   "execution_count": 8,
   "id": "3ad5a0d3",
   "metadata": {},
   "outputs": [
    {
     "name": "stdout",
     "output_type": "stream",
     "text": [
      "<class 'pandas.core.frame.DataFrame'>\n",
      "RangeIndex: 300 entries, 0 to 299\n",
      "Data columns (total 7 columns):\n",
      " #   Column    Non-Null Count  Dtype \n",
      "---  ------    --------------  ----- \n",
      " 0   id        300 non-null    object\n",
      " 1   signal    300 non-null    object\n",
      " 2   sr        300 non-null    int64 \n",
      " 3   channel   300 non-null    int64 \n",
      " 4   artist    231 non-null    object\n",
      " 5   title     300 non-null    object\n",
      " 6   duration  300 non-null    int64 \n",
      "dtypes: int64(3), object(4)\n",
      "memory usage: 16.5+ KB\n"
     ]
    }
   ],
   "source": [
    "df = pd.DataFrame(songs)"
   ]
  },
  {
   "cell_type": "code",
   "execution_count": 9,
   "id": "578e9995",
   "metadata": {},
   "outputs": [],
   "source": [
    "# max duration 8 minutes\n",
    "df = df.loc[df['duration'] <= 480]\n",
    "\n",
    "# min duration 3 minutes\n",
    "df = df.loc[df['duration'] >= 180]\n",
    "\n",
    "# remove rows where no signal was able to be extracted (at least one case of it due to being an interview)\n",
    "df = df[df['signal'].map(lambda x: len(x) > 0)]\n",
    "df = df.reset_index()\n",
    "\n",
    "# # resampling all audio to min (so far it's 44.1k) to help with standardization\n",
    "# sr_min = df['sr'].min()\n",
    "# sr_mask = (df['sr'] != sr_min)\n",
    "# df.loc[sr_mask, 'signal'] = df['signal'].loc[sr_mask].apply(lambda x: signal.resample(x, sr_min))\n"
   ]
  },
  {
   "cell_type": "code",
   "execution_count": 10,
   "id": "a9f31c23",
   "metadata": {},
   "outputs": [],
   "source": [
    "'''\n",
    "\n",
    "Here we get all the frequency level features. First they're computed using librosa,\n",
    "then we reduce them to their mean, variance, kurtosis, skew.Of course these result in \n",
    "very general characteristics of each songs, but they provide a high level, quicker \n",
    "feature mapping for clustering; the CNN architecture will provide a more granular \n",
    "mapping of particular feature quirks and details.\n",
    "\n",
    "we need to add a constant bias, primarily for zero crossing rate, to handle the silence\n",
    "in the beginning of any song, which can have variable length before the music actually begins\n",
    "for now we set this to 0.001, but we may have to revisit this to see if it affects anything else\n",
    "which it shouldn't, as the distribution of freqs is the same.\n",
    "\n",
    "'''\n",
    "ZERO_CROSSING_RATE_BIAS = 0.001\n",
    "def run_freq_stats(df):\n",
    "    '''\n",
    "    TODO: automate feature run in this function\n",
    "    '''\n",
    "    features = ['zcr', 'spectral_centroid', 'rolloff_frequency', 'mfcc', 'spectral_contrast', 'spectral_bandwidth', 'spectral_flatness']\n",
    "    signal = df['signal']\n",
    "    sr = df['sr']\n",
    "    pass\n",
    "test_df = df.copy()\n",
    "\n",
    "# adding this bias is SUPER computationally costly in jupyter for some reason\n",
    "# test_df['signal'] += ZERO_CROSSING_RATE_BIAS"
   ]
  },
  {
   "cell_type": "code",
   "execution_count": 15,
   "id": "05f22c77",
   "metadata": {},
   "outputs": [
    {
     "data": {
      "text/plain": [
       "0                      I Wayne - I need her in my arms\n",
       "1    Check Yes or No - Lullaby Versions of George S...\n",
       "2                           Get In There (feat. Level)\n",
       "3                            God Will Take Care of You\n",
       "4                Fazlija - Gdje si mori - (Audio 2000)\n",
       "5                           Jehst - High Plains Anthem\n",
       "6    Anarchy in the U.K. Lullaby Versions of Sex Pi...\n",
       "7    WITHOUT YOU (Workout Remix) by Power Music Wor...\n",
       "8                    Feel Like Funking It Up (Part II)\n",
       "9                       Gregory Isaacs - Long Sentence\n",
       "Name: title, dtype: object"
      ]
     },
     "execution_count": 15,
     "metadata": {},
     "output_type": "execute_result"
    }
   ],
   "source": [
    "df['title'].iloc[:10]"
   ]
  },
  {
   "cell_type": "code",
   "execution_count": 16,
   "id": "1dd200ff",
   "metadata": {},
   "outputs": [],
   "source": [
    "# getting zero-crossing rate\n",
    "test_df['zcr'] = test_df['signal'].apply(lambda x: librosa.feature.zero_crossing_rate(x + ZERO_CROSSING_RATE_BIAS))\n",
    "\n",
    "test_df['zcr_mean'] = test_df['zcr'].apply(lambda x: np.mean(x))\n",
    "test_df['zcr_var'] = test_df['zcr'].apply(lambda x: np.var(x, ddof=1))\n",
    "test_df['zcr_kurtosis'] = test_df['zcr'].apply(lambda x: kurtosis(np.ndarray.flatten(x), fisher=True))\n",
    "test_df['zcr_skew'] = test_df['zcr'].apply(lambda x: skew(np.ndarray.flatten(x)))"
   ]
  },
  {
   "cell_type": "code",
   "execution_count": 19,
   "id": "d946e8bd",
   "metadata": {},
   "outputs": [],
   "source": [
    "# getting spectral centroid\n",
    "test_df['spectral_centroid'] = test_df.apply(lambda x: librosa.feature.spectral_centroid(y=x['signal'], sr=x['sr']), axis=1)\n",
    "\n",
    "test_df['spectral_centroid_mean'] = test_df['spectral_centroid'].apply(lambda x: np.mean(x))\n",
    "test_df['spectral_centroid_var'] = test_df['spectral_centroid'].apply(lambda x: np.var(x, ddof=1))\n",
    "test_df['spectral_centroid_kurtosis'] = test_df['spectral_centroid'].apply(lambda x: kurtosis(np.ndarray.flatten(x), fisher=True))\n",
    "test_df['spectral_centroid_skew'] = test_df['spectral_centroid'].apply(lambda x: skew(np.ndarray.flatten(x)))"
   ]
  },
  {
   "cell_type": "code",
   "execution_count": 20,
   "id": "1a6a739b",
   "metadata": {},
   "outputs": [],
   "source": [
    "# getting rolloff frequency, default percent is 0.85\n",
    "test_df['rolloff_frequency'] = test_df.apply(lambda x: librosa.feature.spectral_rolloff(y=x['signal'], sr=x['sr']), axis=1)\n",
    "\n",
    "test_df['rolloff_frequency_mean'] = test_df['rolloff_frequency'].apply(lambda x: np.mean(x))\n",
    "test_df['rolloff_frequency_var'] = test_df['rolloff_frequency'].apply(lambda x: np.var(x, ddof=1))\n",
    "test_df['rolloff_frequency_kurtosis'] = test_df['rolloff_frequency'].apply(lambda x: kurtosis(np.ndarray.flatten(x), fisher=True))\n",
    "test_df['rolloff_frequency_skew'] = test_df['rolloff_frequency'].apply(lambda x: skew(np.ndarray.flatten(x)))"
   ]
  },
  {
   "cell_type": "code",
   "execution_count": 21,
   "id": "823911e4",
   "metadata": {},
   "outputs": [],
   "source": [
    "# getting mel coefficients\n",
    "test_df['mfcc'] = test_df.apply(lambda x: librosa.feature.mfcc(y=x['signal'], sr=x['sr']), axis=1)\n",
    "\n",
    "test_df['mfcc_mean'] = test_df['mfcc'].apply(lambda x: np.mean(x))\n",
    "test_df['mfcc_var'] = test_df['mfcc'].apply(lambda x: np.var(x, ddof=1))\n",
    "test_df['mfcc_kurtosis'] = test_df['mfcc'].apply(lambda x: kurtosis(np.ndarray.flatten(x), fisher=True))\n",
    "test_df['mfcc_skew'] = test_df['mfcc'].apply(lambda x: skew(np.ndarray.flatten(x)))"
   ]
  },
  {
   "cell_type": "code",
   "execution_count": 22,
   "id": "120fac6e",
   "metadata": {},
   "outputs": [],
   "source": [
    "# spectral contrast\n",
    "test_df['spectral_contrast'] = test_df.apply(lambda x: librosa.feature.spectral_contrast(y=x['signal'], sr=x['sr']), axis=1)\n",
    "\n",
    "test_df['spectral_contrast_mean'] = test_df['spectral_contrast'].apply(lambda x: np.mean(x))\n",
    "test_df['spectral_contrast_var'] = test_df['spectral_contrast'].apply(lambda x: np.var(x, ddof=1))\n",
    "test_df['spectral_contrast_kurtosis'] = test_df['spectral_contrast'].apply(lambda x: kurtosis(np.ndarray.flatten(x), fisher=True))\n",
    "test_df['spectral_contrast_skew'] = test_df['spectral_contrast'].apply(lambda x: skew(np.ndarray.flatten(x)))"
   ]
  },
  {
   "cell_type": "code",
   "execution_count": 23,
   "id": "7386e644",
   "metadata": {},
   "outputs": [],
   "source": [
    "# spectral bandwidth\n",
    "test_df['spectral_bandwidth'] = test_df.apply(lambda x: librosa.feature.spectral_bandwidth(y=x['signal'], sr=x['sr']), axis=1)\n",
    "\n",
    "test_df['spectral_bandwidth_mean'] = test_df['spectral_bandwidth'].apply(lambda x: np.mean(x))\n",
    "test_df['spectral_bandwidth_var'] = test_df['spectral_bandwidth'].apply(lambda x: np.var(x, ddof=1))\n",
    "test_df['spectral_bandwidth_kurtosis'] = test_df['spectral_bandwidth'].apply(lambda x: kurtosis(np.ndarray.flatten(x), fisher=True))\n",
    "test_df['spectral_bandwidth_skew'] = test_df['spectral_bandwidth'].apply(lambda x: skew(np.ndarray.flatten(x)))"
   ]
  },
  {
   "cell_type": "code",
   "execution_count": 30,
   "id": "0029ccc9",
   "metadata": {},
   "outputs": [],
   "source": [
    "# get spectral flatness\n",
    "test_df['spectral_flatness'] = test_df['signal'].apply(librosa.feature.spectral_flatness)\n",
    "\n",
    "test_df['spectral_flatness_mean'] = test_df['spectral_flatness'].apply(lambda x: np.mean(x))\n",
    "test_df['spectral_flatness_var'] = test_df['spectral_flatness'].apply(lambda x: np.var(x, ddof=1))\n",
    "test_df['spectral_flatness_kurtosis'] = test_df['spectral_flatness'].apply(lambda x: kurtosis(np.ndarray.flatten(x), fisher=True))\n",
    "test_df['spectral_flatness_skew'] = test_df['spectral_flatness'].apply(lambda x: skew(np.ndarray.flatten(x)))"
   ]
  },
  {
   "cell_type": "code",
   "execution_count": 36,
   "id": "f2ea0336",
   "metadata": {},
   "outputs": [
    {
     "data": {
      "text/plain": [
       "Index(['index', 'id', 'signal', 'sr', 'channel', 'artist', 'title', 'duration',\n",
       "       'zcr_mean', 'zcr_var', 'zcr_kurtosis', 'zcr_skew',\n",
       "       'spectral_centroid_mean', 'spectral_centroid_var',\n",
       "       'spectral_centroid_kurtosis', 'spectral_centroid_skew',\n",
       "       'rolloff_frequency_mean', 'rolloff_frequency_var',\n",
       "       'rolloff_frequency_kurtosis', 'rolloff_frequency_skew', 'mfcc_mean',\n",
       "       'mfcc_var', 'mfcc_kurtosis', 'mfcc_skew', 'spectral_contrast_mean',\n",
       "       'spectral_contrast_var', 'spectral_contrast_kurtosis',\n",
       "       'spectral_contrast_skew', 'spectral_bandwidth_mean',\n",
       "       'spectral_bandwidth_var', 'spectral_bandwidth_kurtosis',\n",
       "       'spectral_bandwidth_skew', 'spectral_flatness_mean',\n",
       "       'spectral_flatness_var', 'spectral_flatness_kurtosis',\n",
       "       'spectral_flatness_skew'],\n",
       "      dtype='object')"
      ]
     },
     "execution_count": 36,
     "metadata": {},
     "output_type": "execute_result"
    }
   ],
   "source": [
    "test_df.columns"
   ]
  },
  {
   "cell_type": "code",
   "execution_count": 32,
   "id": "a228502e",
   "metadata": {},
   "outputs": [],
   "source": [
    "test_df.drop(columns=[\n",
    "    'zcr', \n",
    "    'spectral_centroid', \n",
    "    'rolloff_frequency', \n",
    "    'mfcc', \n",
    "    'spectral_contrast', \n",
    "    'spectral_bandwidth', \n",
    "    'spectral_flatness'], \n",
    "             inplace=True, axis=1)"
   ]
  },
  {
   "cell_type": "code",
   "execution_count": 76,
   "id": "3fd61134",
   "metadata": {},
   "outputs": [],
   "source": [
    "'''\n",
    "standardizing everything and then running PCA, setting explained variance==.95 (we can range .95-.99)\n",
    "\n",
    "note: need to compile literally all our data together before standardizing to perform proper PCA\n",
    "'''\n",
    "pca = PCA(n_components=3)\n",
    "non_features = ['index', 'id', 'signal', 'sr', 'channel', 'artist', 'title', 'duration']\n",
    "\n",
    "# df with features only\n",
    "data = test_df[test_df.columns.difference(non_features)]\n",
    "\n",
    "# standardize features\n",
    "scaled_df = (data - data.mean()) / data.std()"
   ]
  },
  {
   "cell_type": "code",
   "execution_count": 78,
   "id": "749504cb",
   "metadata": {},
   "outputs": [],
   "source": [
    "pc_components = pca.fit_transform(scaled_df)\n",
    "\n",
    "principal_df = pd.DataFrame(data=pc_components, columns=['pca1', 'pca2', 'pca3'])\n",
    "compiled_df = pd.concat([principal_df, test_df[['id']]], axis=1)"
   ]
  },
  {
   "cell_type": "code",
   "execution_count": 79,
   "id": "c7079c34",
   "metadata": {},
   "outputs": [
    {
     "data": {
      "text/html": [
       "<div>\n",
       "<style scoped>\n",
       "    .dataframe tbody tr th:only-of-type {\n",
       "        vertical-align: middle;\n",
       "    }\n",
       "\n",
       "    .dataframe tbody tr th {\n",
       "        vertical-align: top;\n",
       "    }\n",
       "\n",
       "    .dataframe thead th {\n",
       "        text-align: right;\n",
       "    }\n",
       "</style>\n",
       "<table border=\"1\" class=\"dataframe\">\n",
       "  <thead>\n",
       "    <tr style=\"text-align: right;\">\n",
       "      <th></th>\n",
       "      <th>pca1</th>\n",
       "      <th>pca2</th>\n",
       "      <th>pca3</th>\n",
       "      <th>id</th>\n",
       "    </tr>\n",
       "  </thead>\n",
       "  <tbody>\n",
       "    <tr>\n",
       "      <th>0</th>\n",
       "      <td>-1.344625</td>\n",
       "      <td>1.596683</td>\n",
       "      <td>-0.079616</td>\n",
       "      <td>scbeMwGaYJs</td>\n",
       "    </tr>\n",
       "    <tr>\n",
       "      <th>1</th>\n",
       "      <td>6.376245</td>\n",
       "      <td>2.221722</td>\n",
       "      <td>0.366328</td>\n",
       "      <td>dJ6I1WY-VAw</td>\n",
       "    </tr>\n",
       "    <tr>\n",
       "      <th>2</th>\n",
       "      <td>-4.126608</td>\n",
       "      <td>0.698149</td>\n",
       "      <td>0.799527</td>\n",
       "      <td>EE94VcQ8xw0</td>\n",
       "    </tr>\n",
       "    <tr>\n",
       "      <th>3</th>\n",
       "      <td>-1.203996</td>\n",
       "      <td>-4.458642</td>\n",
       "      <td>1.150320</td>\n",
       "      <td>4EhZrkzGOUA</td>\n",
       "    </tr>\n",
       "    <tr>\n",
       "      <th>4</th>\n",
       "      <td>-0.048272</td>\n",
       "      <td>-0.810817</td>\n",
       "      <td>-1.493806</td>\n",
       "      <td>GcYRJhQ7bws</td>\n",
       "    </tr>\n",
       "  </tbody>\n",
       "</table>\n",
       "</div>"
      ],
      "text/plain": [
       "       pca1      pca2      pca3           id\n",
       "0 -1.344625  1.596683 -0.079616  scbeMwGaYJs\n",
       "1  6.376245  2.221722  0.366328  dJ6I1WY-VAw\n",
       "2 -4.126608  0.698149  0.799527  EE94VcQ8xw0\n",
       "3 -1.203996 -4.458642  1.150320  4EhZrkzGOUA\n",
       "4 -0.048272 -0.810817 -1.493806  GcYRJhQ7bws"
      ]
     },
     "execution_count": 79,
     "metadata": {},
     "output_type": "execute_result"
    }
   ],
   "source": [
    "compiled_df.head()"
   ]
  },
  {
   "cell_type": "code",
   "execution_count": 83,
   "id": "f13f18de",
   "metadata": {},
   "outputs": [
    {
     "data": {
      "text/plain": [
       "array([[ 6.75531681,  1.00523416, -1.1812469 ],\n",
       "       [-2.33577124,  0.04351508, -0.43312045],\n",
       "       [ 1.04683266, -0.25467837,  0.70016784]])"
      ]
     },
     "execution_count": 83,
     "metadata": {},
     "output_type": "execute_result"
    }
   ],
   "source": [
    "model = KMeans(n_clusters=3)\n",
    "model.fit(compiled_df[compiled_df.columns.difference(['id'])])\n",
    "centroids = model.cluster_centers_"
   ]
  },
  {
   "cell_type": "code",
   "execution_count": 84,
   "id": "dddffdac",
   "metadata": {},
   "outputs": [
    {
     "data": {
      "text/plain": [
       "<matplotlib.collections.PathCollection at 0x7f285e50aa60>"
      ]
     },
     "execution_count": 84,
     "metadata": {},
     "output_type": "execute_result"
    },
    {
     "data": {
      "image/png": "[encoded data removed]",
      "text/plain": [
       "<Figure size 432x288 with 2 Axes>"
      ]
     },
     "metadata": {
      "needs_background": "light"
     },
     "output_type": "display_data"
    }
   ],
   "source": [
    "ax1 = compiled_df.plot.scatter(x='pca1', y='pca2', c='pca3', colormap='viridis')\n",
    "plt.scatter(centroids[:, 0], centroids[:, 1], c='red', s=50)\n",
    "for i, label "
   ]
  },
  {
   "cell_type": "code",
   "execution_count": 102,
   "id": "e69fe648",
   "metadata": {},
   "outputs": [],
   "source": [
    "def find_dist(centroid, y):\n",
    "    dist = np.linalg.norm(centroid - y)\n",
    "    return dist"
   ]
  },
  {
   "cell_type": "code",
   "execution_count": 106,
   "id": "5a5cabf0",
   "metadata": {},
   "outputs": [],
   "source": [
    "compiled_df['centroid_0_dist'] = compiled_df.apply(lambda x: find_dist(centroid=centroids[0], y=np.array([x['pca1'], x['pca2'], x['pca3']])), axis=1)\n",
    "compiled_df['centroid_1_dist'] = compiled_df.apply(lambda x: find_dist(centroid=centroids[1], y=np.array([x['pca1'], x['pca2'], x['pca3']])), axis=1)\n",
    "compiled_df['centroid_2_dist'] = compiled_df.apply(lambda x: find_dist(centroid=centroids[2], y=np.array([x['pca1'], x['pca2'], x['pca3']])), axis=1)"
   ]
  },
  {
   "cell_type": "code",
   "execution_count": 110,
   "id": "09536b65",
   "metadata": {},
   "outputs": [
    {
     "name": "stdout",
     "output_type": "stream",
     "text": [
      "0.19411716371112642\n",
      "0.3263035656202036\n",
      "0.36707755892360694\n",
      "\n",
      "12.520386993623996\n",
      "18.29719489116026\n",
      "15.468997320828848\n"
     ]
    }
   ],
   "source": [
    "print(compiled_df['centroid_0_dist'].min())\n",
    "print(compiled_df['centroid_1_dist'].min())\n",
    "print(compiled_df['centroid_2_dist'].min())\n",
    "print()\n",
    "print(compiled_df['centroid_0_dist'].max())\n",
    "print(compiled_df['centroid_1_dist'].max())\n",
    "print(compiled_df['centroid_2_dist'].max())"
   ]
  },
  {
   "cell_type": "code",
   "execution_count": 113,
   "id": "3d4947aa",
   "metadata": {},
   "outputs": [],
   "source": [
    "first = compiled_df.loc[compiled_df['centroid_0_dist'] == compiled_df['centroid_0_dist'].min()]\n",
    "second = compiled_df.loc[compiled_df['centroid_1_dist'] == compiled_df['centroid_1_dist'].min()]\n",
    "third = compiled_df.loc[compiled_df['centroid_2_dist'] == compiled_df['centroid_2_dist'].min()]"
   ]
  },
  {
   "cell_type": "code",
   "execution_count": 114,
   "id": "d48f174c",
   "metadata": {},
   "outputs": [
    {
     "name": "stdout",
     "output_type": "stream",
     "text": [
      "         pca1      pca2     pca3           id  centroid_0_dist  \\\n",
      "137  6.769601  0.880467 -1.32927  TMyQR9x5Qc4         0.194117   \n",
      "\n",
      "     centroid_1_dist  centroid_2_dist  \n",
      "137         9.187566         6.177155            pca1      pca2      pca3           id  centroid_0_dist  \\\n",
      "219 -2.317459 -0.043265 -0.119102  ULmQ7E0mIKw         9.194714   \n",
      "\n",
      "     centroid_1_dist  centroid_2_dist  \n",
      "219         0.326304         3.469057            pca1      pca2      pca3           id  centroid_0_dist  \\\n",
      "178  0.850934 -0.025555  0.909624  DHcHGv0g200         6.347914   \n",
      "\n",
      "     centroid_1_dist  centroid_2_dist  \n",
      "178         3.458731         0.367078  \n"
     ]
    }
   ],
   "source": [
    "print(first, second, third)"
   ]
  },
  {
   "cell_type": "code",
   "execution_count": 119,
   "id": "c356e110",
   "metadata": {},
   "outputs": [
    {
     "data": {
      "text/html": [
       "<div>\n",
       "<style scoped>\n",
       "    .dataframe tbody tr th:only-of-type {\n",
       "        vertical-align: middle;\n",
       "    }\n",
       "\n",
       "    .dataframe tbody tr th {\n",
       "        vertical-align: top;\n",
       "    }\n",
       "\n",
       "    .dataframe thead th {\n",
       "        text-align: right;\n",
       "    }\n",
       "</style>\n",
       "<table border=\"1\" class=\"dataframe\">\n",
       "  <thead>\n",
       "    <tr style=\"text-align: right;\">\n",
       "      <th></th>\n",
       "      <th>index</th>\n",
       "      <th>id</th>\n",
       "      <th>signal</th>\n",
       "      <th>sr</th>\n",
       "      <th>channel</th>\n",
       "      <th>artist</th>\n",
       "      <th>title</th>\n",
       "      <th>duration</th>\n",
       "    </tr>\n",
       "  </thead>\n",
       "  <tbody>\n",
       "    <tr>\n",
       "      <th>219</th>\n",
       "      <td>287</td>\n",
       "      <td>ULmQ7E0mIKw</td>\n",
       "      <td>[0.0, 0.0, 0.0, 0.0, 0.0, 0.0, 0.0, 0.0, 0.0, ...</td>\n",
       "      <td>48000</td>\n",
       "      <td>2</td>\n",
       "      <td>Adema</td>\n",
       "      <td>Refusing Consciousness</td>\n",
       "      <td>205</td>\n",
       "    </tr>\n",
       "  </tbody>\n",
       "</table>\n",
       "</div>"
      ],
      "text/plain": [
       "     index           id                                             signal  \\\n",
       "219    287  ULmQ7E0mIKw  [0.0, 0.0, 0.0, 0.0, 0.0, 0.0, 0.0, 0.0, 0.0, ...   \n",
       "\n",
       "        sr  channel artist                   title  duration  \n",
       "219  48000        2  Adema  Refusing Consciousness       205  "
      ]
     },
     "execution_count": 119,
     "metadata": {},
     "output_type": "execute_result"
    }
   ],
   "source": [
    "df.loc[df['id'] == 'ULmQ7E0mIKw']"
   ]
  },
  {
   "cell_type": "code",
   "execution_count": 120,
   "id": "b1b8b5b7",
   "metadata": {},
   "outputs": [
    {
     "data": {
      "text/html": [
       "<div>\n",
       "<style scoped>\n",
       "    .dataframe tbody tr th:only-of-type {\n",
       "        vertical-align: middle;\n",
       "    }\n",
       "\n",
       "    .dataframe tbody tr th {\n",
       "        vertical-align: top;\n",
       "    }\n",
       "\n",
       "    .dataframe thead th {\n",
       "        text-align: right;\n",
       "    }\n",
       "</style>\n",
       "<table border=\"1\" class=\"dataframe\">\n",
       "  <thead>\n",
       "    <tr style=\"text-align: right;\">\n",
       "      <th></th>\n",
       "      <th>index</th>\n",
       "      <th>id</th>\n",
       "      <th>signal</th>\n",
       "      <th>sr</th>\n",
       "      <th>channel</th>\n",
       "      <th>artist</th>\n",
       "      <th>title</th>\n",
       "      <th>duration</th>\n",
       "    </tr>\n",
       "  </thead>\n",
       "  <tbody>\n",
       "    <tr>\n",
       "      <th>178</th>\n",
       "      <td>232</td>\n",
       "      <td>DHcHGv0g200</td>\n",
       "      <td>[0.0, 0.0, 0.0, 0.0, 0.0, 0.0, 0.0, 0.0, 0.0, ...</td>\n",
       "      <td>48000</td>\n",
       "      <td>2</td>\n",
       "      <td>NaN</td>\n",
       "      <td>Heather Nova - Everything Changes</td>\n",
       "      <td>220</td>\n",
       "    </tr>\n",
       "  </tbody>\n",
       "</table>\n",
       "</div>"
      ],
      "text/plain": [
       "     index           id                                             signal  \\\n",
       "178    232  DHcHGv0g200  [0.0, 0.0, 0.0, 0.0, 0.0, 0.0, 0.0, 0.0, 0.0, ...   \n",
       "\n",
       "        sr  channel artist                              title  duration  \n",
       "178  48000        2    NaN  Heather Nova - Everything Changes       220  "
      ]
     },
     "execution_count": 120,
     "metadata": {},
     "output_type": "execute_result"
    }
   ],
   "source": [
    "df.loc[df['id'] == 'DHcHGv0g200']"
   ]
  },
  {
   "cell_type": "code",
   "execution_count": 121,
   "id": "68569738",
   "metadata": {},
   "outputs": [
    {
     "data": {
      "text/html": [
       "<div>\n",
       "<style scoped>\n",
       "    .dataframe tbody tr th:only-of-type {\n",
       "        vertical-align: middle;\n",
       "    }\n",
       "\n",
       "    .dataframe tbody tr th {\n",
       "        vertical-align: top;\n",
       "    }\n",
       "\n",
       "    .dataframe thead th {\n",
       "        text-align: right;\n",
       "    }\n",
       "</style>\n",
       "<table border=\"1\" class=\"dataframe\">\n",
       "  <thead>\n",
       "    <tr style=\"text-align: right;\">\n",
       "      <th></th>\n",
       "      <th>index</th>\n",
       "      <th>id</th>\n",
       "      <th>signal</th>\n",
       "      <th>sr</th>\n",
       "      <th>channel</th>\n",
       "      <th>artist</th>\n",
       "      <th>title</th>\n",
       "      <th>duration</th>\n",
       "    </tr>\n",
       "  </thead>\n",
       "  <tbody>\n",
       "    <tr>\n",
       "      <th>137</th>\n",
       "      <td>181</td>\n",
       "      <td>TMyQR9x5Qc4</td>\n",
       "      <td>[0.0, 0.0, 0.0, 0.0, 0.0, 0.0, 0.0, 0.0, 0.0, ...</td>\n",
       "      <td>48000</td>\n",
       "      <td>2</td>\n",
       "      <td>NaN</td>\n",
       "      <td>Cheap Thrills Lullaby Versions of Sia by Twink...</td>\n",
       "      <td>287</td>\n",
       "    </tr>\n",
       "  </tbody>\n",
       "</table>\n",
       "</div>"
      ],
      "text/plain": [
       "     index           id                                             signal  \\\n",
       "137    181  TMyQR9x5Qc4  [0.0, 0.0, 0.0, 0.0, 0.0, 0.0, 0.0, 0.0, 0.0, ...   \n",
       "\n",
       "        sr  channel artist                                              title  \\\n",
       "137  48000        2    NaN  Cheap Thrills Lullaby Versions of Sia by Twink...   \n",
       "\n",
       "     duration  \n",
       "137       287  "
      ]
     },
     "execution_count": 121,
     "metadata": {},
     "output_type": "execute_result"
    }
   ],
   "source": [
    "df.loc[df['id'] == 'TMyQR9x5Qc4']"
   ]
  },
  {
   "cell_type": "code",
   "execution_count": null,
   "id": "1fff399f",
   "metadata": {},
   "outputs": [],
   "source": []
  }
 ],
 "metadata": {
  "interpreter": {
   "hash": "8d7536ef4ea2d415cd6bd6365e4233b1bd5cd7cb7c5c8cb46f25fe09535409ea"
  },
  "kernelspec": {
   "display_name": "Python 3",
   "language": "python",
   "name": "python3"
  },
  "language_info": {
   "codemirror_mode": {
    "name": "ipython",
    "version": 3
   },
   "file_extension": ".py",
   "mimetype": "text/x-python",
   "name": "python",
   "nbconvert_exporter": "python",
   "pygments_lexer": "ipython3",
   "version": "3.8.10"
  }
 },
 "nbformat": 4,
 "nbformat_minor": 5
}
