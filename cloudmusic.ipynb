{
  "nbformat": 4,
  "nbformat_minor": 0,
  "metadata": {
    "colab": {
      "name": "cloudmusic.ipynb",
      "provenance": [],
      "collapsed_sections": [],
      "machine_shape": "hm",
      "authorship_tag": "ABX9TyPWw1lziWr4/0ZVCqdBmHBo",
      "include_colab_link": true
    },
    "kernelspec": {
      "name": "python3",
      "display_name": "Python 3"
    },
    "language_info": {
      "name": "python"
    },
    "accelerator": "TPU"
  },
  "cells": [
    {
      "cell_type": "markdown",
      "metadata": {
        "id": "view-in-github",
        "colab_type": "text"
      },
      "source": [
        "<a href=\"https://colab.research.google.com/github/jasperSha/cloud_music/blob/main/cloudmusic.ipynb\" target=\"_parent\"><img src=\"https://colab.research.google.com/assets/colab-badge.svg\" alt=\"Open In Colab\"/></a>"
      ]
    },
    {
      "cell_type": "code",
      "metadata": {
        "id": "6cq0dRNegEmo"
      },
      "source": [
        "from google.colab import auth\n",
        "auth.authenticate_user()"
      ],
      "execution_count": 3,
      "outputs": []
    },
    {
      "cell_type": "code",
      "metadata": {
        "id": "_joSYv8fgaFW"
      },
      "source": [
        "!curl https://sdk.cloud.google.com | bash"
      ],
      "execution_count": null,
      "outputs": []
    },
    {
      "cell_type": "code",
      "metadata": {
        "id": "GGO7ZKrhgnZZ",
        "colab": {
          "base_uri": "https://localhost:8080/"
        },
        "outputId": "1c81ee19-a9e1-4276-8e87-e0927214ee4b"
      },
      "source": [
        "!gcloud projects list"
      ],
      "execution_count": 4,
      "outputs": [
        {
          "output_type": "stream",
          "name": "stdout",
          "text": [
            "PROJECT_ID             NAME                         PROJECT_NUMBER\n",
            "cloudmusic-330004      cloudmusic                   731970834007\n",
            "cluster-music          cluster-music                850659529381\n",
            "composed-field-268617  ReverseAddressLookUp         1042903851702\n",
            "solar-theory-326420    natural-language-processing  128859147416\n",
            "studenthelper-520f1    studenthelper                280871841346\n"
          ]
        }
      ]
    },
    {
      "cell_type": "code",
      "metadata": {
        "id": "z2R0p3j5g8fj",
        "colab": {
          "base_uri": "https://localhost:8080/"
        },
        "outputId": "38676357-e2a3-4c56-b95b-df7f4a6ba49f"
      },
      "source": [
        "!gcloud config set project cluster-music"
      ],
      "execution_count": 5,
      "outputs": [
        {
          "output_type": "stream",
          "name": "stdout",
          "text": [
            "Updated property [core/project].\n"
          ]
        }
      ]
    },
    {
      "cell_type": "code",
      "metadata": {
        "colab": {
          "base_uri": "https://localhost:8080/"
        },
        "id": "NwWHEU6Wh52O",
        "outputId": "6a50bc43-f380-455d-9978-404a168e3a82"
      },
      "source": [
        "!gsutil ls gs://deepclustermusic"
      ],
      "execution_count": null,
      "outputs": [
        {
          "output_type": "stream",
          "name": "stdout",
          "text": [
            "gs://deepclustermusic/ArQAeJKUhc0.png\n"
          ]
        }
      ]
    },
    {
      "cell_type": "code",
      "metadata": {
        "id": "8yqnUUzUjJHS"
      },
      "source": [
        "import os\n",
        "# create virtual directory for image data\n",
        "os.makedirs('song_images', exist_ok=True)\n",
        "\n",
        "# create virtual directory for frequency data\n",
        "os.makedirs('song_freqs', exist_ok=True)\n",
        "\n",
        "# create virtual directory for the flac files\n",
        "os.makedirs('song_flacs', exist_ok=True)"
      ],
      "execution_count": 1,
      "outputs": []
    },
    {
      "cell_type": "code",
      "metadata": {
        "colab": {
          "base_uri": "https://localhost:8080/"
        },
        "id": "8vAB5y1jh9Nu",
        "outputId": "c466237b-37a3-4b49-a18d-ddcb317eaf38"
      },
      "source": [
        "# load images\n",
        "!gsutil -m cp gs://deepclustermusic/flac_files/*.flac './song_flacs'\n",
        "\n",
        "# load frequency data\n",
        "# !gsutil cp gs://deepclustermusic/*.csv './song_freqs'"
      ],
      "execution_count": 6,
      "outputs": [
        {
          "output_type": "stream",
          "name": "stdout",
          "text": [
            "Copying gs://deepclustermusic/flac_files/-08w0k42lx4.flac...\n",
            "/ [0/146 files][    0.0 B/  4.4 GiB]   0% Done                                  \rCopying gs://deepclustermusic/flac_files/-0AGRrdWs9c.flac...\n",
            "/ [0/146 files][    0.0 B/  4.4 GiB]   0% Done                                  \rCopying gs://deepclustermusic/flac_files/-0PY5uFqQK0.flac...\n",
            "/ [0/146 files][    0.0 B/  4.4 GiB]   0% Done                                  \rCopying gs://deepclustermusic/flac_files/-0rEs3zid2U.flac...\n",
            "/ [0/146 files][    0.0 B/  4.4 GiB]   0% Done                                  \rCopying gs://deepclustermusic/flac_files/0-9-hbvCHtE.flac...\n",
            "/ [0/146 files][    0.0 B/  4.4 GiB]   0% Done                                  \rCopying gs://deepclustermusic/flac_files/00F3w0y38nI.flac...\n",
            "/ [0/146 files][    0.0 B/  4.4 GiB]   0% Done                                  \rCopying gs://deepclustermusic/flac_files/00Rg2JMkFY0.flac...\n",
            "/ [0/146 files][    0.0 B/  4.4 GiB]   0% Done                                  \rCopying gs://deepclustermusic/flac_files/00b--K1VQao.flac...\n",
            "/ [0/146 files][    0.0 B/  4.4 GiB]   0% Done                                  \rCopying gs://deepclustermusic/flac_files/00ytAjri5yY.flac...\n",
            "Copying gs://deepclustermusic/flac_files/010KyIQjkTk.flac...\n",
            "Copying gs://deepclustermusic/flac_files/01Ac0jZ2lr8.flac...\n",
            "Copying gs://deepclustermusic/flac_files/01JFDoHQwoM.flac...\n",
            "Copying gs://deepclustermusic/flac_files/02BL9CcY3xg.flac...\n",
            "Copying gs://deepclustermusic/flac_files/03elWrfAIs0.flac...\n",
            "Copying gs://deepclustermusic/flac_files/03j7wTQm7KQ.flac...\n",
            "Copying gs://deepclustermusic/flac_files/04mfKJWDSzI.flac...\n",
            "Copying gs://deepclustermusic/flac_files/058AZYahqeQ.flac...\n",
            "Copying gs://deepclustermusic/flac_files/05dEWz23bhU.flac...\n",
            "Copying gs://deepclustermusic/flac_files/06B_uniIFmU.flac...\n",
            "Copying gs://deepclustermusic/flac_files/06KCtwk44UA.flac...\n",
            "Copying gs://deepclustermusic/flac_files/06XMfPDE02U.flac...\n",
            "Copying gs://deepclustermusic/flac_files/077fwHRXoU4.flac...\n",
            "Copying gs://deepclustermusic/flac_files/07EDpc3781U.flac...\n",
            "Copying gs://deepclustermusic/flac_files/07SuEcJ1AgI.flac...\n",
            "Copying gs://deepclustermusic/flac_files/08Ei97YuBmc.flac...\n",
            "Copying gs://deepclustermusic/flac_files/095UWFQHruc.flac...\n",
            "Copying gs://deepclustermusic/flac_files/0AHegsIY5R0.flac...\n",
            "Copying gs://deepclustermusic/flac_files/0AHp7B92B8Q.flac...\n",
            "Copying gs://deepclustermusic/flac_files/0AQ5FC3eRKw.flac...\n",
            "Copying gs://deepclustermusic/flac_files/071hUw3KCTM.flac...\n",
            "Copying gs://deepclustermusic/flac_files/0AhbCZcu064.flac...\n",
            "Copying gs://deepclustermusic/flac_files/0C6pWeGgE8c.flac...\n",
            "Copying gs://deepclustermusic/flac_files/0Gwvq1lySFQ.flac...\n",
            "Copying gs://deepclustermusic/flac_files/0C7uKCHMR5Q.flac...\n",
            "Copying gs://deepclustermusic/flac_files/0I25NrCb6CI.flac...\n",
            "Copying gs://deepclustermusic/flac_files/0CS8Ek9_1qo.flac...\n",
            "Copying gs://deepclustermusic/flac_files/0Cw5e4HhFRQ.flac...\n",
            "Copying gs://deepclustermusic/flac_files/0D-fa8cRoVI.flac...\n",
            "Copying gs://deepclustermusic/flac_files/0FaQg9h_iHc.flac...\n",
            "Copying gs://deepclustermusic/flac_files/0G-v8YNMhbE.flac...\n",
            "Copying gs://deepclustermusic/flac_files/0Fl7z3ng6SY.flac...\n",
            "Copying gs://deepclustermusic/flac_files/0JR0ApUALOQ.flac...\n",
            "Copying gs://deepclustermusic/flac_files/0GMAbxYkGV4.flac...\n",
            "Copying gs://deepclustermusic/flac_files/0GU0LQ0zNGQ.flac...\n",
            "Copying gs://deepclustermusic/flac_files/0GsX-Thu4Rc.flac...\n",
            "Copying gs://deepclustermusic/flac_files/0HSdA5iUa18.flac...\n",
            "Copying gs://deepclustermusic/flac_files/0IzcqEXE4CI.flac...\n",
            "Copying gs://deepclustermusic/flac_files/0ITLTAyrP10.flac...\n",
            "Copying gs://deepclustermusic/flac_files/0IcVe22uZwM.flac...\n",
            "Copying gs://deepclustermusic/flac_files/0Iq37s9RJP4.flac...\n",
            "Copying gs://deepclustermusic/flac_files/0IFKlKy3ZgA.flac...\n",
            "Copying gs://deepclustermusic/flac_files/0J3vgcE5i2o.flac...\n",
            "Copying gs://deepclustermusic/flac_files/0KGuey1tixU.flac...\n",
            "Copying gs://deepclustermusic/flac_files/0IqxXrbJ6c4.flac...\n",
            "Copying gs://deepclustermusic/flac_files/0ayUH1FBkIc.flac...\n",
            "Copying gs://deepclustermusic/flac_files/0KILhrfOJ74.flac...\n",
            "Copying gs://deepclustermusic/flac_files/0K34mnycGm0.flac...\n",
            "Copying gs://deepclustermusic/flac_files/0LWHex8_4RM.flac...\n",
            "Copying gs://deepclustermusic/flac_files/0Kg9xRooTVk.flac...\n",
            "Copying gs://deepclustermusic/flac_files/0Oi8jDMvd_w.flac...\n",
            "Copying gs://deepclustermusic/flac_files/0LPddiQXD9c.flac...\n",
            "Copying gs://deepclustermusic/flac_files/0egY9etMaks.flac...\n",
            "Copying gs://deepclustermusic/flac_files/0N6cSYWde8M.flac...\n",
            "Copying gs://deepclustermusic/flac_files/0MWaxlLdUB0.flac...\n",
            "Copying gs://deepclustermusic/flac_files/0MePOddEqT4.flac...\n",
            "Copying gs://deepclustermusic/flac_files/0OiBWLuV4GI.flac...\n",
            "Copying gs://deepclustermusic/flac_files/0NhI29qDw5g.flac...\n",
            "Copying gs://deepclustermusic/flac_files/0Pcuju5djiI.flac...\n",
            "Copying gs://deepclustermusic/flac_files/0Nw_L5xxNVI.flac...\n",
            "Copying gs://deepclustermusic/flac_files/0QeDeQ6scgM.flac...\n",
            "Copying gs://deepclustermusic/flac_files/0Qjelf4YmW8.flac...\n",
            "Copying gs://deepclustermusic/flac_files/0P7un3cf1TA.flac...\n",
            "Copying gs://deepclustermusic/flac_files/0PjLkB7BlpA.flac...\n",
            "Copying gs://deepclustermusic/flac_files/0QmLQoZ1Wf4.flac...\n",
            "Copying gs://deepclustermusic/flac_files/0Qo-G6NJTIk.flac...\n",
            "Copying gs://deepclustermusic/flac_files/0Qvqui4HS-M.flac...\n",
            "Copying gs://deepclustermusic/flac_files/0RCKVP1KTiY.flac...\n",
            "Copying gs://deepclustermusic/flac_files/0RyInjfgNc4.flac...\n",
            "Copying gs://deepclustermusic/flac_files/0SF5f9wJilo.flac...\n",
            "Copying gs://deepclustermusic/flac_files/0ST7_e8zz2M.flac...\n",
            "Copying gs://deepclustermusic/flac_files/0STP9uRParc.flac...\n",
            "Copying gs://deepclustermusic/flac_files/0TCUYPcyzeU.flac...\n",
            "Copying gs://deepclustermusic/flac_files/0UYi5naMsfg.flac...\n",
            "Copying gs://deepclustermusic/flac_files/0VcFiN7EgNk.flac...\n",
            "Copying gs://deepclustermusic/flac_files/0VsQ7VPCzHE.flac...\n",
            "Copying gs://deepclustermusic/flac_files/0_KAAS8TuL4.flac...\n",
            "Copying gs://deepclustermusic/flac_files/0_BS0rTJqrQ.flac...\n",
            "Copying gs://deepclustermusic/flac_files/0_dfgRUUMhk.flac...\n",
            "Copying gs://deepclustermusic/flac_files/0aMTt4_fADY.flac...\n",
            "Copying gs://deepclustermusic/flac_files/0bTOCt6-4E0.flac...\n",
            "Copying gs://deepclustermusic/flac_files/0aYMxJzu_6o.flac...\n",
            "Copying gs://deepclustermusic/flac_files/0cGmTrNUJeU.flac...\n",
            "Copying gs://deepclustermusic/flac_files/0ar7vovnH5I.flac...\n",
            "Copying gs://deepclustermusic/flac_files/0cTEMaWaKK0.flac...\n",
            "Copying gs://deepclustermusic/flac_files/0dIN9boK88o.flac...\n",
            "Copying gs://deepclustermusic/flac_files/0egprfEy6yM.flac...\n",
            "Copying gs://deepclustermusic/flac_files/0dMmVvhIMHM.flac...\n",
            "Copying gs://deepclustermusic/flac_files/0dnibCQtdFE.flac...\n",
            "Copying gs://deepclustermusic/flac_files/0gVbeSO4tWI.flac...\n",
            "Copying gs://deepclustermusic/flac_files/0ePJKWzxZuU.flac...\n",
            "Copying gs://deepclustermusic/flac_files/0gOFu5o5DRk.flac...\n",
            "Copying gs://deepclustermusic/flac_files/0gsskSuFQjI.flac...\n",
            "Copying gs://deepclustermusic/flac_files/0h-dFwXUVHQ.flac...\n",
            "Copying gs://deepclustermusic/flac_files/0hD6KE4duW0.flac...\n",
            "Copying gs://deepclustermusic/flac_files/0hwZBlFvrSI.flac...\n",
            "Copying gs://deepclustermusic/flac_files/0iBbvQSKn2g.flac...\n",
            "Copying gs://deepclustermusic/flac_files/0hEk6vNqw3M.flac...\n",
            "Copying gs://deepclustermusic/flac_files/0hFgeknrYO4.flac...\n",
            "Copying gs://deepclustermusic/flac_files/0hePuVahwkw.flac...\n",
            "Copying gs://deepclustermusic/flac_files/0ikXs5qKfMY.flac...\n",
            "Copying gs://deepclustermusic/flac_files/0j5ZrAhjuW8.flac...\n",
            "Copying gs://deepclustermusic/flac_files/0j_lYwTJINA.flac...\n",
            "Copying gs://deepclustermusic/flac_files/0jEX7AXsXRM.flac...\n",
            "Copying gs://deepclustermusic/flac_files/0jcaDMo9W_M.flac...\n",
            "Copying gs://deepclustermusic/flac_files/0jmUtNnHpVc.flac...\n",
            "Copying gs://deepclustermusic/flac_files/0lEvPNMpIhY.flac...\n",
            "Copying gs://deepclustermusic/flac_files/0jxKu3aoTa8.flac...\n",
            "Copying gs://deepclustermusic/flac_files/0koxiEoQ49o.flac...\n",
            "Copying gs://deepclustermusic/flac_files/0kJdWJXxF3Y.flac...\n",
            "Copying gs://deepclustermusic/flac_files/0mvR5zYKVJU.flac...\n",
            "Copying gs://deepclustermusic/flac_files/0ls3T69eV2o.flac...\n",
            "Copying gs://deepclustermusic/flac_files/0m8mgyPsqBI.flac...\n",
            "Copying gs://deepclustermusic/flac_files/0mlTnbu8hKw.flac...\n",
            "Copying gs://deepclustermusic/flac_files/0mO-S5v-ELE.flac...\n",
            "Copying gs://deepclustermusic/flac_files/0nPeRpYnT4Q.flac...\n",
            "Copying gs://deepclustermusic/flac_files/0noXMKJn2TU.flac...\n",
            "Copying gs://deepclustermusic/flac_files/0p5mYmTbBXE.flac...\n",
            "Copying gs://deepclustermusic/flac_files/0q3r-z_z2CM.flac...\n",
            "Copying gs://deepclustermusic/flac_files/0pC7E2DkUZw.flac...\n",
            "Copying gs://deepclustermusic/flac_files/0pBvShVPs60.flac...\n",
            "Copying gs://deepclustermusic/flac_files/0pdH1Ba3A7Y.flac...\n",
            "Copying gs://deepclustermusic/flac_files/0oPW_TLfRqc.flac...\n",
            "Copying gs://deepclustermusic/flac_files/0qVA3zXPyx0.flac...\n",
            "Copying gs://deepclustermusic/flac_files/0oQcGAa6M2w.flac...\n",
            "Copying gs://deepclustermusic/flac_files/0tiKTGk9zS0.flac...\n",
            "Copying gs://deepclustermusic/flac_files/0shsRuhIorw.flac...\n",
            "Copying gs://deepclustermusic/flac_files/0sqsCzxWQDY.flac...\n",
            "Copying gs://deepclustermusic/flac_files/0vyrgy_cnXs.flac...\n",
            "Copying gs://deepclustermusic/flac_files/_0gfuSq3vvs.flac...\n",
            "Copying gs://deepclustermusic/flac_files/0cmPwnvmP-M.flac...\n",
            "Copying gs://deepclustermusic/flac_files/0vweFH5Us9s.flac...\n",
            "Copying gs://deepclustermusic/flac_files/0wqBzAkC_AQ.flac...\n",
            "Copying gs://deepclustermusic/flac_files/0k521qMnwX0.flac...\n",
            "Copying gs://deepclustermusic/flac_files/0KCOR341a4U.flac...\n",
            "Copying gs://deepclustermusic/flac_files/0eef-uXSqHs.flac...\n",
            "Copying gs://deepclustermusic/flac_files/_0vdxRUEb3Y.flac...\n",
            "| [146/146 files][  4.4 GiB/  4.4 GiB] 100% Done   7.4 MiB/s ETA 00:00:00       \n",
            "Operation completed over 146 objects/4.4 GiB.                                    \n"
          ]
        }
      ]
    },
    {
      "cell_type": "code",
      "metadata": {
        "id": "SEbSffRnkxrA"
      },
      "source": [
        "# upload data to google cloud\n",
        "# !gsutil cp testresults.csv gs://deepclustermusic/"
      ],
      "execution_count": null,
      "outputs": []
    },
    {
      "cell_type": "code",
      "metadata": {
        "id": "-8kIOQ1vYpdZ"
      },
      "source": [
        "!pip install fastaudio"
      ],
      "execution_count": null,
      "outputs": []
    },
    {
      "cell_type": "code",
      "metadata": {
        "id": "8tAgHciqjFVw",
        "colab": {
          "base_uri": "https://localhost:8080/"
        },
        "outputId": "d3a99098-7605-4bfb-f401-3193e5756ecc"
      },
      "source": [
        "import glob\n",
        "import matplotlib.pyplot as plt\n",
        "import numpy as np\n",
        "\n",
        "import fastaudio\n",
        "\n",
        "import imageio\n",
        "import scipy\n",
        "from scipy import ndimage\n",
        "from scipy.signal import convolve2d\n",
        "\n",
        "import torch\n",
        "import torch.nn as nn"
      ],
      "execution_count": 1,
      "outputs": [
        {
          "output_type": "stream",
          "name": "stderr",
          "text": [
            "/usr/local/lib/python3.7/dist-packages/torchaudio/backend/utils.py:47: UserWarning: \"torchaudio.USE_SOUNDFILE_LEGACY_INTERFACE\" flag is deprecated and will be removed in 0.9.0. Please remove the use of flag.\n",
            "  '\"torchaudio.USE_SOUNDFILE_LEGACY_INTERFACE\" flag is deprecated and will be removed in 0.9.0. '\n"
          ]
        }
      ]
    },
    {
      "cell_type": "code",
      "metadata": {
        "id": "YpvrofZcaAXJ"
      },
      "source": [
        "# set mel configurations\n",
        "run_config = dict(\n",
        "    sample_rate=44100,\n",
        "    n_fft=4096,\n",
        "    n_mels=224,\n",
        "    hop_length=441,\n",
        "    win_length=1764,\n",
        "    f_max=20000\n",
        ")"
      ],
      "execution_count": null,
      "outputs": []
    },
    {
      "cell_type": "code",
      "metadata": {
        "id": "KXk0QmElWtjt"
      },
      "source": [
        "'''\n",
        "get frequency features\n",
        "\n",
        "'''\n",
        "\n",
        "flacs = list(glob.glob('/content/song_flacs/*.flac'))\n",
        "\n"
      ],
      "execution_count": 9,
      "outputs": []
    },
    {
      "cell_type": "code",
      "metadata": {
        "id": "tOaaps4ipzNZ"
      },
      "source": [
        "# tensorflow syntax here\n",
        "def self_attention(in_shape, ch, k=8):\n",
        "  height, width, channel = in_shape\n",
        "  x = layers.Input(shape = [height, width, channel])\n",
        "\t\n",
        "  f = layers.Conv2D(ch // k, kernel_size = (1, 1), strides = (1, 1), padding='same', use_bias=True)(x)\n",
        "  f = layers.MaxPooling2D()(f)\n",
        "  f = layers.Reshape((-1, f.shape[-1]))(f)\n",
        "\t\n",
        "  g = layers.Conv2D(ch // k, kernel_size = (1, 1), strides = (1, 1), padding='same', use_bias=True)(x)\n",
        "  g = layers.Reshape((-1, g.shape[-1]))(g)\n",
        "\t\n",
        "  h = layers.Conv2D(ch // 2, kernel_size = (1, 1), strides = (1, 1), padding='same', use_bias=True)(x)\n",
        "  h = layers.MaxPooling2D()(h)\n",
        "  h = layers.Reshape((-1, h.shape[-1]))(h)\n",
        "\t\n",
        "  s = tf.matmul(g, f, transpose_b=True)\n",
        "  s = keras.layers.Softmax()(s)\n",
        "\t\t\n",
        "  o = tf.matmul(s, h)\n",
        "\n",
        "  o = layers.Reshape((height, width, ch // 2))(o)\n",
        "  o = layers.Conv2D(channel, kernel_size = (1, 1), strides = (1, 1), padding='same', use_bias=True)(o)\n",
        "  o = Scalar()(o)\n",
        "  o = o + x\n",
        "\n",
        "  SA = keras.Model(inputs=x, outputs=o)\n",
        "\t\n",
        "  return SA\n",
        "\n",
        "\n",
        "class Scalar(layers.Layer):\n",
        "  def __init__(self):\n",
        "    super(Scalar, self).__init__()\n",
        "\n",
        "  def build(self, input_shape):\n",
        "    self.gamma = tf.Variable(initial_value=tf.zeros(1), trainable=True)\n",
        "    self._trainable_weights=[self.gamma]\n",
        "\n",
        "  def call(self, inputs):\n",
        "    return layers.Rescaling(self.gamma)(inputs)"
      ],
      "execution_count": null,
      "outputs": []
    },
    {
      "cell_type": "code",
      "metadata": {
        "id": "usrJxZ4Pp61x"
      },
      "source": [
        "def conv_model():\n",
        "  input = layers.Input(shape=(256, 128))\n",
        "\n",
        "  image = SpectralNorm(layers.Conv2D(128, (5, 5), strides=(1, 1), padding='same', input_shape=[256, 128, 1]))(input)\n",
        "  image = layers.LeakyReLU(image)\n",
        "  image = layers.Dropout(0.3)(image)\n",
        "\n",
        "  "
      ],
      "execution_count": null,
      "outputs": []
    }
  ]
}